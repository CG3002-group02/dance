{
 "cells": [
  {
   "cell_type": "code",
   "execution_count": null,
   "metadata": {},
   "outputs": [],
   "source": [
    "# scale the data points\n",
    "from sklearn.preprocessing import StandardScaler \n",
    "\n",
    "# Neural Network model\n",
    "from sklearn.neural_network import MLPClassifier\n",
    "\n",
    "# Importation of  model\n",
    "import pickle\n",
    "\n",
    "# data analysis\n",
    "import pandas as pd\n",
    "\n",
    "# scale the data points\n",
    "from sklearn.preprocessing import StandardScaler \n",
    "\n",
    "import csv\n",
    "\n",
    "def predict()\n",
    "\n",
    "    filename_mlp = \"Neural_Network_Model.sav\"\n",
    "    filename_rd = \"Random_Forestry_Model.sav\"\n",
    "    data = pd.read_csv(r'/home/pi/Desktop/cleaned_dataset.csv')\n",
    "    \n",
    "    mlp_model = pickle.load(open(filenameMLP, 'rb'))\n",
    "    rd_model = pickle.load(open(filenameRD, 'rb'))\n",
    "    \n",
    "    prediction_rd = rd_model.predict(data)\n",
    "    \n",
    "    # data scaling to improve accuracy of mlp\n",
    "    scaler = StandardScaler()\n",
    "    scaler.fit(data)\n",
    "    \n",
    "    prediction_mlp = mlp_model.predict(scaler.transform(data))\n",
    "    \n",
    "    predictions = prediction_mlp + prediction_rd\n",
    "    \n",
    "    mapping = { 1 : 'chicken', 2 : 'number7', 3 : 'sidestep', 4 : 'turnclap', 5 : 'wiper'}\n",
    "    output = pd.DataFrame({'activity' : predictions})\n",
    "    output = output.replace({'activity': mapping})   \n",
    "    b = output.activity.mode()\n",
    "    myFile = open('output.csv', 'w')  \n",
    "    with myFile:  \n",
    "        myFile.write(b[0])"
   ]
  }
 ],
 "metadata": {
  "kernelspec": {
   "display_name": "Python 3",
   "language": "python",
   "name": "python3"
  },
  "language_info": {
   "codemirror_mode": {
    "name": "ipython",
    "version": 3
   },
   "file_extension": ".py",
   "mimetype": "text/x-python",
   "name": "python",
   "nbconvert_exporter": "python",
   "pygments_lexer": "ipython3",
   "version": "3.6.6"
  }
 },
 "nbformat": 4,
 "nbformat_minor": 2
}
