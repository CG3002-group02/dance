{
 "cells": [
  {
   "cell_type": "code",
   "execution_count": 80,
   "metadata": {},
   "outputs": [
    {
     "name": "stdout",
     "output_type": "stream",
     "text": [
      "chicken\n",
      "done\n"
     ]
    }
   ],
   "source": [
    "# scale the data points\n",
    "from sklearn.preprocessing import StandardScaler \n",
    "\n",
    "# Neural Network model\n",
    "from sklearn.neural_network import MLPClassifier\n",
    "\n",
    "# Importation of  model\n",
    "import pickle\n",
    "\n",
    "# data analysis\n",
    "import pandas as pd\n",
    "\n",
    "# scale the data points\n",
    "from sklearn.preprocessing import StandardScaler \n",
    "\n",
    "import csv\n",
    "\n",
    "def predict():\n",
    "\n",
    "    filename_mlp = \"Neural_Network_Model.sav\"\n",
    "    filename_svm = \"SVM.sav\"\n",
    "    filename_rd = \"RD.sav\"\n",
    "#     data = pd.read_csv(r'/home/pi/Desktop/test_dataset.csv')\n",
    "    data = pd.read_csv(r'C:\\Users\\User\\Desktop\\Study\\Year 3\\Sem 1\\CG3002\\DanceProject\\Machine Learning\\extracted data\\test_dataset.csv')\n",
    "    \n",
    "    mlp_model = pickle.load(open(filename_mlp, 'rb'))\n",
    "    svm_model = pickle.load(open(filename_svm, 'rb'))\n",
    "    rd_model = pickle.load(open(filename_rd, 'rb'))\n",
    "    \n",
    "    prediction_mlp = mlp_model.predict(data).tolist()\n",
    "    prediction_svm = svm_model.predict(data).tolist()\n",
    "    prediction_rd = rd_model.predict(data).tolist()\n",
    "    predictions = prediction_mlp + prediction_svm + prediction_rd\n",
    "    \n",
    "    mapping = { 1 : 'chicken', 2 : 'number7', 3 : 'sidestep', 4 : 'turnclap', 5 : 'wiper'}\n",
    "    output = pd.DataFrame({'activity' : predictions})\n",
    "    output = output.replace({'activity': mapping})\n",
    "    \n",
    "    b = output.activity.mode()\n",
    "#     print(output.activity.mode())\n",
    "#     myFile = open('output.csv', 'w')  \n",
    "#     with myFile:  \n",
    "#         myFile.write(b[0])\n",
    "    return b[0]\n",
    "# result = predict()\n",
    "# print(result)\n",
    "# print('done')"
   ]
  },
  {
   "cell_type": "code",
   "execution_count": 64,
   "metadata": {},
   "outputs": [
    {
     "name": "stdout",
     "output_type": "stream",
     "text": [
      "done\n"
     ]
    }
   ],
   "source": [
    "data = pd.read_csv(r'C:\\Users\\User\\Desktop\\Study\\Year 3\\Sem 1\\CG3002\\DanceProject\\Machine Learning\\extracted data\\extracted_dataset.csv')\n",
    "data = data[0:10].copy()\n",
    "data = data.drop(['activity'], axis=1)\n",
    "data.to_csv(r'C:\\Users\\User\\Desktop\\Study\\Year 3\\Sem 1\\CG3002\\DanceProject\\Machine Learning\\extracted data\\test_dataset.csv', index=False)\n",
    "print('done')"
   ]
  }
 ],
 "metadata": {
  "kernelspec": {
   "display_name": "Python 3",
   "language": "python",
   "name": "python3"
  },
  "language_info": {
   "codemirror_mode": {
    "name": "ipython",
    "version": 3
   },
   "file_extension": ".py",
   "mimetype": "text/x-python",
   "name": "python",
   "nbconvert_exporter": "python",
   "pygments_lexer": "ipython3",
   "version": "3.6.6"
  }
 },
 "nbformat": 4,
 "nbformat_minor": 2
}
