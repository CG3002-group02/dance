{
 "cells": [
  {
   "cell_type": "code",
   "execution_count": 14,
   "metadata": {},
   "outputs": [],
   "source": [
    "# Importation of  model\n",
    "import pickle\n",
    "\n",
    "# data analysis\n",
    "import pandas as pd\n",
    "\n",
    "import warnings\n",
    "warnings.filterwarnings(\"ignore\", category=DeprecationWarning)\n",
    "\n",
    "from .segmentation import data_processing\n",
    "\n",
    "\n",
    "def predict():\n",
    "    filename_mlp = \"/home/pi/3002/ml/Neural_Network_Model.sav\"\n",
    "    filename_svm = \"/home/pi/3002/ml/SVM.sav\"\n",
    "    filename_rd = \"/home/pi/3002/ml/RD.sav\"\n",
    "    data = pd.read_csv('/home/pi/3002/ml/extracted_data.csv')\n",
    "#     data = pd.read_csv(r'C:\\Users\\User\\Desktop\\Study\\Year 3\\Sem 1\\CG3002\\DanceProject\\Machine Learning\\extracted data\\test_dataset.csv')\n",
    "#     data = pd.read_csv(r'C:\\Users\\User\\Desktop\\chicken_extracted_dataset.csv')#\n",
    "    mlp_model = pickle.load(open(filename_mlp, 'rb'))\n",
    "    svm_model = pickle.load(open(filename_svm, 'rb'))\n",
    "    rd_model = pickle.load(open(filename_rd, 'rb'))\n",
    "    \n",
    "    while(True):\n",
    "        prediction_mlp = mlp_model.predict(data)\n",
    "        prediction_svm = svm_model.predict(data)\n",
    "        prediction_rd = rd_model.predict(data)\n",
    "        if ((prediction_mlp == prediction_svm == prediction_rd) & (prediction_mlp != 0)):\n",
    "            break\n",
    "        segmentation.data_processing(0.2)\n",
    "        \n",
    "    mapping = {1 : 'chicken', 2 : 'number7', 3 : 'sidestep', 4 : 'turnclap', 5 : 'wipers',\n",
    "               6 : 'numbersix', 7 : 'salute', 8 : 'mermaid', 9 : 'swing', 10 : 'cowboy', 11 : 'finisher'}\n",
    "    return mapping[prediction_mlp[0]]"
   ]
  },
  {
   "cell_type": "code",
   "execution_count": 10,
   "metadata": {},
   "outputs": [
    {
     "data": {
      "text/plain": [
       "'swing'"
      ]
     },
     "execution_count": 10,
     "metadata": {},
     "output_type": "execute_result"
    }
   ],
   "source": [
    "mapping = {1 : 'chicken', 2 : 'number7', 3 : 'sidestep', 4 : 'turnclap', 5 : 'wipers',\n",
    "               6 : 'number6', 7 : 'salute', 8 : 'mermaid', 9 : 'swing', 10 : 'cowboy', 11 : 'finisher'}\n",
    "mapping[9]"
   ]
  },
  {
   "cell_type": "code",
   "execution_count": 47,
   "metadata": {},
   "outputs": [
    {
     "name": "stdout",
     "output_type": "stream",
     "text": [
      "[5, 1, 5, 1, 3, 1, 1, 1, 1, 1, 1, 1, 3, 5, 1, 3, 3, 1, 3, 3, 3, 3, 3, 1]\n"
     ]
    },
    {
     "data": {
      "text/plain": [
       "'chicken'"
      ]
     },
     "execution_count": 47,
     "metadata": {},
     "output_type": "execute_result"
    }
   ],
   "source": [
    "predict()"
   ]
  }
 ],
 "metadata": {
  "kernelspec": {
   "display_name": "Python 3",
   "language": "python",
   "name": "python3"
  },
  "language_info": {
   "codemirror_mode": {
    "name": "ipython",
    "version": 3
   },
   "file_extension": ".py",
   "mimetype": "text/x-python",
   "name": "python",
   "nbconvert_exporter": "python",
   "pygments_lexer": "ipython3",
   "version": "3.6.6"
  }
 },
 "nbformat": 4,
 "nbformat_minor": 2
}
