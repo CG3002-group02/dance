{
 "cells": [
  {
   "cell_type": "code",
   "execution_count": 50,
   "metadata": {},
   "outputs": [],
   "source": [
    "# Importation of  model\n",
    "import pickle\n",
    "\n",
    "# data analysis\n",
    "import pandas as pd\n",
    "\n",
    "import warnings\n",
    "warnings.filterwarnings(\"ignore\", category=DeprecationWarning)\n",
    "\n",
    "\n",
    "def predict():\n",
    "    filename_mlp = \"Neural_Network_Model.sav\"\n",
    "    filename_svm = \"SVM.sav\"\n",
    "    filename_rd = \"RD.sav\"\n",
    "#     data = pd.read_csv(r'/home/pi/Desktop/test_dataset.csv')\n",
    "#     data = pd.read_csv(r'C:\\Users\\User\\Desktop\\Study\\Year 3\\Sem 1\\CG3002\\DanceProject\\Machine Learning\\extracted data\\test_dataset.csv')\n",
    "    data = pd.read_csv(r'C:\\Users\\User\\Desktop\\chicken_extracted_dataset.csv')\n",
    "    mlp_model = pickle.load(open(filename_mlp, 'rb'))\n",
    "    svm_model = pickle.load(open(filename_svm, 'rb'))\n",
    "    rd_model = pickle.load(open(filename_rd, 'rb'))\n",
    "    \n",
    "    prediction_mlp = mlp_model.predict(data).tolist()\n",
    "    prediction_svm = svm_model.predict(data).tolist()\n",
    "    prediction_rd = rd_model.predict(data).tolist()\n",
    "    predictions = prediction_mlp + prediction_svm + prediction_rd\n",
    "    \n",
    "    mapping = { 1 : 'chicken', 2 : 'number7', 3 : 'sidestep', 4 : 'turnclap', 5 : 'wiper'}\n",
    "    output = pd.DataFrame({'activity' : predictions})\n",
    "    output = output.replace({'activity': mapping})\n",
    "    \n",
    "    b = output.activity.mode()\n",
    "    return b[0]"
   ]
  }
 ],
 "metadata": {
  "kernelspec": {
   "display_name": "Python 3",
   "language": "python",
   "name": "python3"
  },
  "language_info": {
   "codemirror_mode": {
    "name": "ipython",
    "version": 3
   },
   "file_extension": ".py",
   "mimetype": "text/x-python",
   "name": "python",
   "nbconvert_exporter": "python",
   "pygments_lexer": "ipython3",
   "version": "3.6.6"
  }
 },
 "nbformat": 4,
 "nbformat_minor": 2
}
