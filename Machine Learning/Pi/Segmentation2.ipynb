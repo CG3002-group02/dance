{
 "cells": [
  {
   "cell_type": "code",
   "execution_count": 38,
   "metadata": {},
   "outputs": [],
   "source": [
    "# data analysis\n",
    "import pandas as pd\n",
    "\n",
    "import time\n",
    "\n",
    "# scale the data points\n",
    "from sklearn import preprocessing\n",
    "\n",
    "import datetime\n",
    "\n",
    "def data_processing():\n",
    "    start = datetime.datetime.now()\n",
    "    # Wait for 2 seconds\n",
    "    time.sleep(7)\n",
    "    # read data\n",
    "#     data = pd.read_csv(r'/home/pi/Desktop/test_dataset.csv')\n",
    "    data = pd.read_csv(r'C:\\Users\\User\\Desktop\\chicken_dataset.csv')\n",
    "\n",
    "    cleaned_data = data.drop(['voltage','current','power','energy'],axis =1).copy() #delete column\n",
    "    cleaned_data = cleaned_data.astype(float)\n",
    "    cleaned_data = pd.DataFrame(preprocessing.scale(cleaned_data),\n",
    "                                                   columns=['AcX 1', 'AcY 1', 'AcZ 1', 'GyX 1', 'GyY 1', 'GyZ 1',                                                           \n",
    "                                                            'AcX 2', 'AcY 2', 'AcZ 2', 'GyX 2', 'GyY 2', 'GyZ 2',\n",
    "                                                            'AcX 3', 'AcY 3', 'AcZ 3', 'GyX 3', 'GyY 3', 'GyZ 3'])\n",
    "    i = 0\n",
    "    mean_data = pd.DataFrame() \n",
    "#     std_data = pd.DataFrame() \n",
    "    max_data = pd.DataFrame()\n",
    "    iqr_data = pd.DataFrame() \n",
    "    \n",
    "    \n",
    "    for count in range(12):\n",
    "        a = cleaned_data[i:i+55].copy()\n",
    "        a.loc['mean'] = a.mean()\n",
    "#         a.loc['std'] = a.std()\n",
    "        a.loc['max'] = a.max()\n",
    "        a.loc['iqr'] = a.quantile(0.75) - a.quantile(0.25)\n",
    "        \n",
    "        mean_data = mean_data.append(a.loc['mean'], ignore_index=True)\n",
    "#         std_data = std_data.append(a.loc['std'], ignore_index=True)\n",
    "        max_data = max_data.append(a.loc['max'], ignore_index=True)\n",
    "        iqr_data = iqr_data.append(a.loc['iqr'], ignore_index=True)\n",
    "        i += 11\n",
    "\n",
    "    # rearrangement of columns\n",
    "    mean_data = mean_data.rename(index=str, columns={'AcX 1': 'mean_AcX 1', 'AcY 1': 'mean_AcY 1', 'AcZ 1': 'mean_AcZ 1', \n",
    "                                                     'GyX 1': 'mean_GyX 1', 'GyY 1': 'mean_GyY 1', 'GyZ 1': 'mean_GyZ 1',\n",
    "                                                     'AcX 2': 'mean_AcX 2', 'AcY 2': 'mean_AcY 2', 'AcZ 2': 'mean_AcZ 2', \n",
    "                                                     'GyX 2': 'mean_GyX 2', 'GyY 2': 'mean_GyY 2', 'GyZ 2': 'mean_GyZ 2',\n",
    "                                                     'AcX 3': 'mean_AcX 3', 'AcY 3': 'mean_AcY 3', 'AcZ 3': 'mean_AcZ 3', \n",
    "                                                     'GyX 3': 'mean_GyX 3', 'GyY 3': 'mean_GyY 3', 'GyZ 3': 'mean_GyZ 3',})\n",
    "\n",
    "#     std_data = std_data.rename(index=str, columns=  {'AcX 1': 'std_AcX 1', 'AcY 1': 'std_AcY 1', 'AcZ 1': 'std_AcZ 1', \n",
    "#                                                      'GyX 1': 'std_GyX 1', 'GyY 1': 'std_GyY 1', 'GyZ 1': 'std_GyZ 1',\n",
    "#                                                      'AcX 2': 'std_AcX 2', 'AcY 2': 'std_AcY 2', 'AcZ 2': 'std_AcZ 2', \n",
    "#                                                      'GyX 2': 'std_GyX 2', 'GyY 2': 'std_GyY 2', 'GyZ 2': 'std_GyZ 2',\n",
    "#                                                      'AcX 3': 'std_AcX 3', 'AcY 3': 'std_AcY 3', 'AcZ 3': 'std_AcZ 3', \n",
    "#                                                      'GyX 3': 'std_GyX 3', 'GyY 3': 'std_GyY 3', 'GyZ 3': 'std_GyZ 3',})\n",
    "    \n",
    "    max_data = max_data.rename(index=str, columns=  {'AcX 1': 'max_AcX 1', 'AcY 1': 'max_AcY 1', 'AcZ 1': 'max_AcZ 1', \n",
    "                                                     'GyX 1': 'max_GyX 1', 'GyY 1': 'max_GyY 1', 'GyZ 1': 'max_GyZ 1',\n",
    "                                                     'AcX 2': 'max_AcX 2', 'AcY 2': 'max_AcY 2', 'AcZ 2': 'max_AcZ 2', \n",
    "                                                     'GyX 2': 'max_GyX 2', 'GyY 2': 'max_GyY 2', 'GyZ 2': 'max_GyZ 2',\n",
    "                                                     'AcX 3': 'max_AcX 3', 'AcY 3': 'max_AcY 3', 'AcZ 3': 'max_AcZ 3', \n",
    "                                                     'GyX 3': 'max_GyX 3', 'GyY 3': 'max_GyY 3', 'GyZ 3': 'max_GyZ 3',})\n",
    "        \n",
    "    iqr_data = iqr_data.rename(index=str, columns=  {'AcX 1': 'iqr_AcX 1', 'AcY 1': 'iqr_AcY 1', 'AcZ 1': 'iqr_AcZ 1', \n",
    "                                                     'GyX 1': 'iqr_GyX 1', 'GyY 1': 'iqr_GyY 1', 'GyZ 1': 'iqr_GyZ 1',\n",
    "                                                     'AcX 2': 'iqr_AcX 2', 'AcY 2': 'iqr_AcY 2', 'AcZ 2': 'iqr_AcZ 2', \n",
    "                                                     'GyX 2': 'iqr_GyX 2', 'GyY 2': 'iqr_GyY 2', 'GyZ 2': 'iqr_GyZ 2',\n",
    "                                                     'AcX 3': 'iqr_AcX 3', 'AcY 3': 'iqr_AcY 3', 'AcZ 3': 'iqr_AcZ 3', \n",
    "                                                     'GyX 3': 'iqr_GyX 3', 'GyY 3': 'iqr_GyY 3', 'GyZ 3': 'iqr_GyZ 3',}) \n",
    "    \n",
    "    \n",
    "    # combine features extracted into 1 \n",
    "    extracted_data = mean_data.join(max_data).join(iqr_data)\n",
    "\n",
    "    # store row 110\n",
    "    data = pd.read_csv(r'C:\\Users\\User\\Desktop\\chicken_dataset.csv')\n",
    "    data = data[220::].copy()\n",
    "    data.to_csv(r'C:\\Users\\User\\Desktop\\chicken_dataset.csv',index=False)\n",
    "    extracted_data.to_csv(r'C:\\Users\\User\\Desktop\\chicken_extracted_dataset.csv', index=False)\n",
    "    \n",
    "    voltage = data['voltage'].iloc[0]\n",
    "    current = data['current'].iloc[0]\n",
    "    power = data['power'].iloc[0]\n",
    "    energy = data['energy'].iloc[0]\n",
    "    return [voltage, current, power, energy]"
   ]
  },
  {
   "cell_type": "code",
   "execution_count": 46,
   "metadata": {},
   "outputs": [
    {
     "name": "stdout",
     "output_type": "stream",
     "text": [
      "done\n"
     ]
    }
   ],
   "source": [
    "data_processing()\n",
    "print('done')"
   ]
  }
 ],
 "metadata": {
  "kernelspec": {
   "display_name": "Python 3",
   "language": "python",
   "name": "python3"
  },
  "language_info": {
   "codemirror_mode": {
    "name": "ipython",
    "version": 3
   },
   "file_extension": ".py",
   "mimetype": "text/x-python",
   "name": "python",
   "nbconvert_exporter": "python",
   "pygments_lexer": "ipython3",
   "version": "3.6.6"
  }
 },
 "nbformat": 4,
 "nbformat_minor": 2
}
