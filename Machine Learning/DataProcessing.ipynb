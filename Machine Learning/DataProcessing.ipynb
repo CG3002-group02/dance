{
 "cells": [
  {
   "cell_type": "code",
   "execution_count": 8,
   "metadata": {},
   "outputs": [],
   "source": [
    "# data analysis\n",
    "import pandas as pd\n",
    "\n",
    "class DataProcessing ():\n",
    "\n",
    "    def processData(cleaned_data):\n",
    "        mean_data = pd.DataFrame()\n",
    "        std_data = pd.DataFrame()\n",
    "        i = 0\n",
    "        j = 49\n",
    "        row_count = len(cleaned_data.index)\n",
    "\n",
    "        # segmentation at 50%\n",
    "        while row_count > 1:\n",
    "            a = cleaned_data[i:i+100:].copy()\n",
    "            b = cleaned_data[j:j+100:].copy()\n",
    "\n",
    "            a.loc['mean'] = a.mean()\n",
    "            a.loc['std'] = a.std()\n",
    "            b.loc['mean'] = b.mean()\n",
    "            b.loc['std'] = b.std()\n",
    "            mean_data = mean_data.append(a.loc['mean'], ignore_index = True)\n",
    "            mean_data = mean_data.append(b.loc['mean'], ignore_index = True)\n",
    "            std_data = std_data.append(a.loc['std'], ignore_index = True)\n",
    "            std_data = std_data.append(b.loc['std'], ignore_index = True)\n",
    "\n",
    "            i += 100\n",
    "            j += 100\n",
    "            row_count -= 100\n",
    "\n",
    "        mean_data.activity = mean_data.activity.round()\n",
    "        # rearrangement of columns\n",
    "        mean_data = mean_data.rename(index=str, columns={'acceleration_x': 'mean_acc_x', 'acceleration_y': 'mean_acc_y',\n",
    "                                                         'acceleration_z': 'mean_acc_z', 'gyro_x': 'mean_gyro_x',\n",
    "                                                         'gyro_y': 'mean_gyro_y', 'gyro_z': 'mean_gyro_z'})\n",
    "\n",
    "        std_data = std_data.rename(index=str, columns={'acceleration_x': 'std_acc_x', 'acceleration_y': 'std_acc_y',\n",
    "                                                         'acceleration_z': 'std_acc_z', 'gyro_x': 'std_gyro_x',\n",
    "                                                         'gyro_y': 'std_gyro_y', 'gyro_z': 'std_gyro_z'})\n",
    "        # combine features extracted into 1 \n",
    "        activity = mean_data['activity'].copy()\n",
    "        mean_data = mean_data.drop(['activity'], axis = 1)\n",
    "        std_data = std_data.drop(['activity'], axis = 1)\n",
    "        extracted_data = mean_data.join(std_data)\n",
    "        extracted_data['activity'] = activity\n",
    "        \n",
    "        return extracted_data"
   ]
  }
 ],
 "metadata": {
  "kernelspec": {
   "display_name": "Python 3",
   "language": "python",
   "name": "python3"
  },
  "language_info": {
   "codemirror_mode": {
    "name": "ipython",
    "version": 3
   },
   "file_extension": ".py",
   "mimetype": "text/x-python",
   "name": "python",
   "nbconvert_exporter": "python",
   "pygments_lexer": "ipython3",
   "version": "3.6.6"
  }
 },
 "nbformat": 4,
 "nbformat_minor": 2
}
