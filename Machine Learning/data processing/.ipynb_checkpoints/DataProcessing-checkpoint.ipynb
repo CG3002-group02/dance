{
 "cells": [
  {
   "cell_type": "code",
   "execution_count": 19,
   "metadata": {},
   "outputs": [
    {
     "name": "stdout",
     "output_type": "stream",
     "text": [
      "done\n"
     ]
    }
   ],
   "source": [
    "# data analysis\n",
    "import pandas as pd\n",
    "\n",
    "from sklearn import preprocessing\n",
    "\n",
    "# data segmentation: 2 second, 80% overlapping, 55Hz\n",
    "def data_processing(filename):\n",
    "    # read data\n",
    "    cleaned_data = pd.read_csv(r'C:\\Users\\User\\Desktop\\Study\\Year 3\\Sem 1\\CG3002\\DanceProject\\Machine Learning\\raw data\\''+ filename +'_dataset.csv')\n",
    "    activity = cleaned_data['activity'].copy()\n",
    "    cleaned_data = pd.DataFrame(preprocessing.scale(cleaned_data.drop(['activity'], axis=1)),\n",
    "                                                   columns=['AcX 1', 'AcY 1', 'AcZ 1', 'GyX 1', 'GyY 1', 'GyZ 1', \n",
    "                                                            'AcX 2', 'AcY 2', 'AcZ 2', 'GyX 2', 'GyY 2', 'GyZ 2',\n",
    "                                                            'AcX 3', 'AcY 3', 'AcZ 3', 'GyX 3', 'GyY 3', 'GyZ 3'])\n",
    "    \n",
    "    cleaned_data['activity'] = activity\n",
    "    mean_data = pd.DataFrame()\n",
    "    std_data = pd.DataFrame()\n",
    "    var_data = pd.DataFrame()\n",
    "    i = 0\n",
    "    row_count = len(cleaned_data.index)\n",
    "\n",
    "    # segmentation at 80% @ 55Hz 2s\n",
    "    while i + 110 <=  row_count:\n",
    "        a = cleaned_data[i:i+110:].copy()\n",
    "\n",
    "        a.loc['mean'] = a.mean()\n",
    "        a.loc['std'] = a.std()\n",
    "        a.loc['var'] = a.var()\n",
    "        mean_data = mean_data.append(a.loc['mean'], ignore_index=True)\n",
    "        std_data = std_data.append(a.loc['std'], ignore_index=True)\n",
    "#        var_data = var_data.append(a.loc['var'], ignore_index=True)\n",
    "        i += 21\n",
    "    mean_data.activity = mean_data.activity.round()\n",
    "    # rearrangement of columns\n",
    "    mean_data = mean_data.rename(index=str, columns={'AcX 1': 'mean_AcX 1', 'AcY 1': 'mean_AcY 1', 'AcZ 1': 'mean_AcZ 1', \n",
    "                                                      'GyX 1': 'mean_GyX 1', 'GyY 1': 'mean_GyY 1', 'GyZ 1': 'mean_GyZ 1',\n",
    "                                                      'AcX 2': 'mean_AcX 2', 'AcY 2': 'mean_AcY 2', 'AcZ 2': 'mean_AcZ 2', \n",
    "                                                      'GyX 2': 'mean_GyX 2', 'GyY 2': 'mean_GyY 2', 'GyZ 2': 'mean_GyZ 2',\n",
    "                                                      'AcX 3': 'mean_AcX 3', 'AcY 3': 'mean_AcY 3', 'AcZ 3': 'mean_AcZ 3', \n",
    "                                                      'GyX 3': 'mean_GyX 3', 'GyY 3': 'mean_GyY 3', 'GyZ 3': 'mean_GyZ 3',})\n",
    "\n",
    "    std_data = std_data.rename(index=str, columns=  {'AcX 1': 'std_AcX 1', 'AcY 1': 'std_AcY 1', 'AcZ 1': 'std_AcZ 1', \n",
    "                                                     'GyX 1': 'std_GyX 1', 'GyY 1': 'std_GyY 1', 'GyZ 1': 'std_GyZ 1',\n",
    "                                                     'AcX 2': 'std_AcX 2', 'AcY 2': 'std_AcY 2', 'AcZ 2': 'std_AcZ 2', \n",
    "                                                     'GyX 2': 'std_GyX 2', 'GyY 2': 'std_GyY 2', 'GyZ 2': 'std_GyZ 2',\n",
    "                                                     'AcX 3': 'std_AcX 3', 'AcY 3': 'std_AcY 3', 'AcZ 3': 'std_AcZ 3', \n",
    "                                                     'GyX 3': 'std_GyX 3', 'GyY 3': 'std_GyY 3', 'GyZ 3': 'std_GyZ 3',})\n",
    "    \n",
    "#     var_data = var_data.rename(index=str, columns=  {'AcX 1': 'var_AcX 1', 'AcY 1': 'var_AcY 1', 'AcZ 1': 'var_AcZ 1', \n",
    "#                                                      'GyX 1': 'var_GyX 1', 'GyY 1': 'var_GyY 1', 'GyZ 1': 'var_GyZ 1',\n",
    "#                                                      'AcX 2': 'var_AcX 2', 'AcY 2': 'var_AcY 2', 'AcZ 2': 'var_AcZ 2', \n",
    "#                                                      'GyX 2': 'var_GyX 2', 'GyY 2': 'var_GyY 2', 'GyZ 2': 'var_GyZ 2',\n",
    "#                                                      'AcX 3': 'var_AcX 3', 'AcY 3': 'var_AcY 3', 'AcZ 3': 'var_AcZ 3', \n",
    "#                                                      'GyX 3': 'var_GyX 3', 'GyY 3': 'var_GyY 3', 'GyZ 3': 'var_GyZ 3',})   \n",
    "    # combine features extracted into 1 \n",
    "    activity = mean_data['activity'].copy()\n",
    "    mean_data = mean_data.drop(['activity'], axis=1)\n",
    "    std_data = std_data.drop(['activity'], axis=1)\n",
    "#     var_data = var_data.drop(['activity'], axis=1)\n",
    "#     extracted_data = mean_data.join(std_data).join(var_data)\n",
    "    extracted_data = mean_data.join(std_data)\n",
    "    extracted_data['activity'] = activity\n",
    "    \n",
    "    extracted_data.to_csv(r'C:\\Users\\User\\Desktop\\Study\\Year 3\\Sem 1\\CG3002\\DanceProject\\Machine Learning\\extracted data\\'' + filename +'_extracted_dataset.csv',index=False)\n",
    "    "
   ]
  },
  {
   "cell_type": "code",
   "execution_count": 4,
   "metadata": {},
   "outputs": [
    {
     "name": "stdout",
     "output_type": "stream",
     "text": [
      "this is : hi\n"
     ]
    }
   ],
   "source": [
    "name = 'hi'\n",
    "print(\"this is : \" + name)"
   ]
  }
 ],
 "metadata": {
  "kernelspec": {
   "display_name": "Python 3",
   "language": "python",
   "name": "python3"
  },
  "language_info": {
   "codemirror_mode": {
    "name": "ipython",
    "version": 3
   },
   "file_extension": ".py",
   "mimetype": "text/x-python",
   "name": "python",
   "nbconvert_exporter": "python",
   "pygments_lexer": "ipython3",
   "version": "3.6.6"
  }
 },
 "nbformat": 4,
 "nbformat_minor": 2
}
