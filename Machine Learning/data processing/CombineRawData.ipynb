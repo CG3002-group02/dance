{
 "cells": [
  {
   "cell_type": "code",
   "execution_count": 2,
   "metadata": {},
   "outputs": [
    {
     "name": "stdout",
     "output_type": "stream",
     "text": [
      "done\n"
     ]
    }
   ],
   "source": [
    "# data analysis\n",
    "import pandas as pd\n",
    "\n",
    "bobby_chicken = pd.read_csv(r'C:\\Users\\User\\Desktop\\Study\\Year 3\\Sem 1\\CG3002\\DanceProject\\Machine Learning\\raw data\\bobby\\chicken.csv')\n",
    "bobby_number7 = pd.read_csv(r'C:\\Users\\User\\Desktop\\Study\\Year 3\\Sem 1\\CG3002\\DanceProject\\Machine Learning\\raw data\\bobby\\number7.csv')\n",
    "bobby_sidestep = pd.read_csv(r'C:\\Users\\User\\Desktop\\Study\\Year 3\\Sem 1\\CG3002\\DanceProject\\Machine Learning\\raw data\\bobby\\sidestep.csv')\n",
    "bobby_turnclap = pd.read_csv(r'C:\\Users\\User\\Desktop\\Study\\Year 3\\Sem 1\\CG3002\\DanceProject\\Machine Learning\\raw data\\bobby\\turnclap.csv')\n",
    "bobby_turnclap2 = pd.read_csv(r'C:\\Users\\User\\Desktop\\Study\\Year 3\\Sem 1\\CG3002\\DanceProject\\Machine Learning\\raw data\\bobby\\turnclap2.csv')\n",
    "bobby_wiper = pd.read_csv(r'C:\\Users\\User\\Desktop\\Study\\Year 3\\Sem 1\\CG3002\\DanceProject\\Machine Learning\\raw data\\bobby\\wiper.csv')\n",
    "\n",
    "beeyee_chicken = pd.read_csv(r'C:\\Users\\User\\Desktop\\Study\\Year 3\\Sem 1\\CG3002\\DanceProject\\Machine Learning\\raw data\\beeyee\\chicken.csv')\n",
    "beeyee_number7 = pd.read_csv(r'C:\\Users\\User\\Desktop\\Study\\Year 3\\Sem 1\\CG3002\\DanceProject\\Machine Learning\\raw data\\beeyee\\number7.csv')\n",
    "beeyee_sidestep = pd.read_csv(r'C:\\Users\\User\\Desktop\\Study\\Year 3\\Sem 1\\CG3002\\DanceProject\\Machine Learning\\raw data\\beeyee\\sidestep.csv')\n",
    "beeyee_turnclap = pd.read_csv(r'C:\\Users\\User\\Desktop\\Study\\Year 3\\Sem 1\\CG3002\\DanceProject\\Machine Learning\\raw data\\beeyee\\turnclap.csv')\n",
    "beeyee_turnclap2 = pd.read_csv(r'C:\\Users\\User\\Desktop\\Study\\Year 3\\Sem 1\\CG3002\\DanceProject\\Machine Learning\\raw data\\beeyee\\turnclap2.csv')\n",
    "beeyee_wiper = pd.read_csv(r'C:\\Users\\User\\Desktop\\Study\\Year 3\\Sem 1\\CG3002\\DanceProject\\Machine Learning\\raw data\\beeyee\\wiper.csv')\n",
    "\n",
    "henry_chicken = pd.read_csv(r'C:\\Users\\User\\Desktop\\Study\\Year 3\\Sem 1\\CG3002\\DanceProject\\Machine Learning\\raw data\\henry\\chicken.csv')\n",
    "henry_number7 = pd.read_csv(r'C:\\Users\\User\\Desktop\\Study\\Year 3\\Sem 1\\CG3002\\DanceProject\\Machine Learning\\raw data\\henry\\number7.csv')\n",
    "henry_sidestep = pd.read_csv(r'C:\\Users\\User\\Desktop\\Study\\Year 3\\Sem 1\\CG3002\\DanceProject\\Machine Learning\\raw data\\henry\\sidestep.csv')\n",
    "henry_turnclap = pd.read_csv(r'C:\\Users\\User\\Desktop\\Study\\Year 3\\Sem 1\\CG3002\\DanceProject\\Machine Learning\\raw data\\henry\\turnclap.csv')\n",
    "henry_turnclap2 = pd.read_csv(r'C:\\Users\\User\\Desktop\\Study\\Year 3\\Sem 1\\CG3002\\DanceProject\\Machine Learning\\raw data\\henry\\turnclap2.csv')\n",
    "henry_turnclap3 = pd.read_csv(r'C:\\Users\\User\\Desktop\\Study\\Year 3\\Sem 1\\CG3002\\DanceProject\\Machine Learning\\raw data\\henry\\turnclap3.csv')\n",
    "henry_turnclap4 = pd.read_csv(r'C:\\Users\\User\\Desktop\\Study\\Year 3\\Sem 1\\CG3002\\DanceProject\\Machine Learning\\raw data\\henry\\turnclap4.csv')\n",
    "henry_wiper = pd.read_csv(r'C:\\Users\\User\\Desktop\\Study\\Year 3\\Sem 1\\CG3002\\DanceProject\\Machine Learning\\raw data\\henry\\wiper.csv')\n",
    "\n",
    "kabir_chicken = pd.read_csv(r'C:\\Users\\User\\Desktop\\Study\\Year 3\\Sem 1\\CG3002\\DanceProject\\Machine Learning\\raw data\\kabir\\chicken.csv')\n",
    "kabir_number7 = pd.read_csv(r'C:\\Users\\User\\Desktop\\Study\\Year 3\\Sem 1\\CG3002\\DanceProject\\Machine Learning\\raw data\\kabir\\number7.csv')\n",
    "kabir_sidestep = pd.read_csv(r'C:\\Users\\User\\Desktop\\Study\\Year 3\\Sem 1\\CG3002\\DanceProject\\Machine Learning\\raw data\\kabir\\sidestep.csv')\n",
    "kabir_turnclap = pd.read_csv(r'C:\\Users\\User\\Desktop\\Study\\Year 3\\Sem 1\\CG3002\\DanceProject\\Machine Learning\\raw data\\kabir\\turnclap.csv')\n",
    "kabir_turnclap2 = pd.read_csv(r'C:\\Users\\User\\Desktop\\Study\\Year 3\\Sem 1\\CG3002\\DanceProject\\Machine Learning\\raw data\\kabir\\turnclap2.csv')\n",
    "kabir_wiper = pd.read_csv(r'C:\\Users\\User\\Desktop\\Study\\Year 3\\Sem 1\\CG3002\\DanceProject\\Machine Learning\\raw data\\kabir\\wiper.csv')\n",
    "\n",
    "zech_chicken = pd.read_csv(r'C:\\Users\\User\\Desktop\\Study\\Year 3\\Sem 1\\CG3002\\DanceProject\\Machine Learning\\raw data\\zech\\chicken.csv')\n",
    "zech_number7 = pd.read_csv(r'C:\\Users\\User\\Desktop\\Study\\Year 3\\Sem 1\\CG3002\\DanceProject\\Machine Learning\\raw data\\zech\\number7.csv')\n",
    "zech_sidestep = pd.read_csv(r'C:\\Users\\User\\Desktop\\Study\\Year 3\\Sem 1\\CG3002\\DanceProject\\Machine Learning\\raw data\\zech\\sidestep.csv')\n",
    "zech_turnclap = pd.read_csv(r'C:\\Users\\User\\Desktop\\Study\\Year 3\\Sem 1\\CG3002\\DanceProject\\Machine Learning\\raw data\\zech\\turnclap.csv')\n",
    "zech_turnclap2 = pd.read_csv(r'C:\\Users\\User\\Desktop\\Study\\Year 3\\Sem 1\\CG3002\\DanceProject\\Machine Learning\\raw data\\zech\\turnclap2.csv')\n",
    "zech_wiper = pd.read_csv(r'C:\\Users\\User\\Desktop\\Study\\Year 3\\Sem 1\\CG3002\\DanceProject\\Machine Learning\\raw data\\zech\\wiper.csv')\n",
    "\n",
    "hongjing_chicken = pd.read_csv(r'C:\\Users\\User\\Desktop\\Study\\Year 3\\Sem 1\\CG3002\\DanceProject\\Machine Learning\\raw data\\hongjing\\chicken.csv')\n",
    "hongjing_number7 = pd.read_csv(r'C:\\Users\\User\\Desktop\\Study\\Year 3\\Sem 1\\CG3002\\DanceProject\\Machine Learning\\raw data\\hongjing\\number7.csv')\n",
    "hongjing_sidestep = pd.read_csv(r'C:\\Users\\User\\Desktop\\Study\\Year 3\\Sem 1\\CG3002\\DanceProject\\Machine Learning\\raw data\\hongjing\\sidestep.csv')\n",
    "hongjing_wiper = pd.read_csv(r'C:\\Users\\User\\Desktop\\Study\\Year 3\\Sem 1\\CG3002\\DanceProject\\Machine Learning\\raw data\\hongjing\\wiper.csv')\n",
    "\n",
    "# bobby_chicken = bobby_chicken.drop(['voltage', 'current', 'power', 'energy'], axis = 1).copy();\n",
    "# bobby_number7 = bobby_number7.drop(['voltage', 'current', 'power', 'energy'], axis = 1).copy();\n",
    "\n",
    "frames_chicken = [bobby_chicken, beeyee_chicken, henry_chicken, kabir_chicken, zech_chicken, hongjing_chicken]\n",
    "frames_number7 = [bobby_number7, beeyee_number7, henry_chicken, kabir_number7, zech_number7, hongjing_number7]\n",
    "frames_sidestep = [bobby_sidestep, beeyee_sidestep, henry_sidestep, kabir_sidestep, zech_sidestep, hongjing_sidestep]\n",
    "frames_turnclap = [bobby_turnclap, bobby_turnclap2, beeyee_turnclap, beeyee_turnclap2, henry_turnclap,\n",
    "                   henry_turnclap2, henry_turnclap3, henry_turnclap4, zech_turnclap, zech_turnclap2,]\n",
    "frames_wiper = [bobby_wiper, beeyee_wiper, henry_wiper, kabir_wiper, zech_wiper, hongjing_wiper]\n",
    "\n",
    "chicken_data = pd.concat(frames_chicken)\n",
    "number7_data = pd.concat(frames_number7)\n",
    "sidestep_data = pd.concat(frames_sidestep)\n",
    "turnclap_data = pd.concat(frames_turnclap)\n",
    "wiper_data = pd.concat(frames_wiper)\n",
    "\n",
    "chicken_data['activity'] = 1;\n",
    "number7_data['activity'] = 2;\n",
    "sidestep_data['activity'] = 3;\n",
    "turnclap_data['activity'] = 4;\n",
    "wiper_data['activity'] = 5;\n",
    "\n",
    "frames_result = [chicken_data, number7_data, sidestep_data, turnclap_data, wiper_data]\n",
    "\n",
    "result = pd.concat(frames_result)\n",
    "\n",
    "result = result.drop(['voltage', 'current', 'power', 'energy'], axis = 1).copy()\n",
    "\n",
    "mapping = {'chicken': 1, 'number7': 2, 'sidestep' : 3, 'turnclap' : 4, 'wiper' : 5}\n",
    "\n",
    "print('done')\n",
    "\n",
    "result.to_csv(r'C:\\Users\\User\\Desktop\\Study\\Year 3\\Sem 1\\CG3002\\DanceProject\\Machine Learning\\raw data\\dataset.csv', index=False)"
   ]
  },
  {
   "cell_type": "code",
   "execution_count": 3,
   "metadata": {},
   "outputs": [
    {
     "name": "stdout",
     "output_type": "stream",
     "text": [
      "done\n"
     ]
    }
   ],
   "source": [
    "chicken = pd.read_csv(r'C:\\Users\\User\\Desktop\\Study\\Year 3\\Sem 1\\CG3002\\DanceProject\\Machine Learning\\extracted data\\chicken_extracted_dataset.csv')\n",
    "number7 = pd.read_csv(r'C:\\Users\\User\\Desktop\\Study\\Year 3\\Sem 1\\CG3002\\DanceProject\\Machine Learning\\extracted data\\number7_extracted_dataset.csv')\n",
    "sidestep = pd.read_csv(r'C:\\Users\\User\\Desktop\\Study\\Year 3\\Sem 1\\CG3002\\DanceProject\\Machine Learning\\extracted data\\sidestep_extracted_dataset.csv')\n",
    "turnclap = pd.read_csv(r'C:\\Users\\User\\Desktop\\Study\\Year 3\\Sem 1\\CG3002\\DanceProject\\Machine Learning\\extracted data\\turnclap_extracted_dataset.csv')\n",
    "wiper = pd.read_csv(r'C:\\Users\\User\\Desktop\\Study\\Year 3\\Sem 1\\CG3002\\DanceProject\\Machine Learning\\extracted data\\wiper_extracted_dataset.csv')\n",
    "\n",
    "\n",
    "frames_result = [chicken_data, number7_data, sidestep_data, turnclap_data, wiper_data]\n",
    "\n",
    "# result = pd.concat(frames_result)\n",
    "# result = result.drop(['voltage', 'current', 'power', 'energy'], axis = 1).copy()\n",
    "# result.to_csv(r'C:\\Users\\User\\Desktop\\Study\\Year 3\\Sem 1\\CG3002\\DanceProject\\Machine Learning\\raw data\\dataset.csv', index=False)\n",
    "print(\"done\")"
   ]
  }
 ],
 "metadata": {
  "kernelspec": {
   "display_name": "Python 3",
   "language": "python",
   "name": "python3"
  },
  "language_info": {
   "codemirror_mode": {
    "name": "ipython",
    "version": 3
   },
   "file_extension": ".py",
   "mimetype": "text/x-python",
   "name": "python",
   "nbconvert_exporter": "python",
   "pygments_lexer": "ipython3",
   "version": "3.6.6"
  }
 },
 "nbformat": 4,
 "nbformat_minor": 2
}
